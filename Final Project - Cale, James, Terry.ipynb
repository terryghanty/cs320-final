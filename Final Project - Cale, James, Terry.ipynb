{
 "cells": [
  {
   "cell_type": "code",
   "execution_count": 1,
   "metadata": {
    "scrolled": true
   },
   "outputs": [],
   "source": [
    "import zipfile\n",
    "import matplotlib\n",
    "import pandas as pd\n",
    "from pandas import DataFrame, Series\n",
    "from io import TextIOWrapper\n",
    "from zipfile import ZipFile, ZIP_STORED, ZIP_DEFLATED\n",
    "import csv\n",
    "import re\n",
    "import matplotlib.dates as mdates\n",
    "from matplotlib import pyplot as plt\n",
    "import datetime\n",
    "import calendar\n",
    "import numpy as np"
   ]
  },
  {
   "cell_type": "code",
   "execution_count": 2,
   "metadata": {},
   "outputs": [],
   "source": [
    "matplotlib.rcParams[\"font.size\"]=18"
   ]
  },
  {
   "cell_type": "code",
   "execution_count": 3,
   "metadata": {
    "scrolled": false
   },
   "outputs": [],
   "source": [
    "def read_csv(name):\n",
    "    with open(name, 'rb') as WI:\n",
    "        reader = csv.reader(TextIOWrapper(WI))\n",
    "        for row in reader:\n",
    "            yield row\n",
    "            \n",
    "def make_df(name):\n",
    "    reader = read_csv(name)\n",
    "    header = next(reader)\n",
    "    df = DataFrame(reader)\n",
    "    df.columns = header\n",
    "    return df"
   ]
  },
  {
   "cell_type": "code",
   "execution_count": 4,
   "metadata": {
    "scrolled": true
   },
   "outputs": [],
   "source": [
    "df_2015 = make_df('General_Payment_Data___Detailed_Dataset_2015_Reporting_Year-2015.csv')\n",
    "df_2016 = make_df('General_Payment_Data___Detailed_Dataset_2016_Reporting_Year-2016.csv')\n",
    "df_2017 = make_df('General_Payment_Data___Detailed_Dataset_2017_Reporting_Year-2017.csv')\n",
    "df_2018 = make_df('General_Payment_Data___Detailed_Dataset_2018_Reporting_Year-2018.csv')"
   ]
  },
  {
   "cell_type": "code",
   "execution_count": null,
   "metadata": {},
   "outputs": [],
   "source": [
    "df = df_2015.append(df_2016, ignore_index=True).append(df_2017, ignore_index=True).append(df_2018, ignore_index=True)"
   ]
  },
  {
   "cell_type": "code",
   "execution_count": 6,
   "metadata": {},
   "outputs": [],
   "source": []
  },
  {
   "cell_type": "code",
   "execution_count": null,
   "metadata": {},
   "outputs": [],
   "source": []
  },
  {
   "cell_type": "code",
   "execution_count": null,
   "metadata": {},
   "outputs": [],
   "source": []
  },
  {
   "cell_type": "code",
   "execution_count": null,
   "metadata": {},
   "outputs": [],
   "source": [
    "df['Date_of_Payment']= pd.to_datetime(df['Date_of_Payment'])\n",
    "df['Total_Amount_of_Payment_USDollars']=df['Total_Amount_of_Payment_USDollars'].str.replace(',',\"\").astype(float)"
   ]
  },
  {
   "cell_type": "code",
   "execution_count": null,
   "metadata": {},
   "outputs": [],
   "source": [
    "df = df.replace(np.nan, '', regex=True)"
   ]
  },
  {
   "cell_type": "code",
   "execution_count": null,
   "metadata": {},
   "outputs": [],
   "source": [
    "df['day'] = df['Date_of_Payment'].dt.day\n",
    "df['month'] = df['Date_of_Payment'].dt.month\n",
    "df['year'] = df['Date_of_Payment'].dt.year"
   ]
  },
  {
   "cell_type": "markdown",
   "metadata": {},
   "source": [
    "# DRUG AND MEDICAL COMPANIES PAY A LOT OF MONEY TO PHYSICIANS AND TEACHING"
   ]
  },
  {
   "cell_type": "markdown",
   "metadata": {},
   "source": [
    "### 1. How much money in total typically gets paid out on a given day over time in January?"
   ]
  },
  {
   "cell_type": "code",
   "execution_count": null,
   "metadata": {
    "scrolled": true
   },
   "outputs": [],
   "source": [
    "df_january_2015 = df[(df['year']==2015) & (df['month']==1)]\n",
    "df_january_2016 = df[(df['year']==2016) & (df['month']==1)]\n",
    "df_january_2017 = df[(df['year']==2017) & (df['month']==1)]\n",
    "df_january_2018 = df[(df['year']==2018) & (df['month']==1)]"
   ]
  },
  {
   "cell_type": "code",
   "execution_count": null,
   "metadata": {},
   "outputs": [],
   "source": [
    "df_jan_15 = df_january_2015.groupby('day').sum()['Total_Amount_of_Payment_USDollars']\n",
    "df_jan_16 = df_january_2016.groupby('day').sum()['Total_Amount_of_Payment_USDollars']\n",
    "df_jan_17 = df_january_2017.groupby('day').sum()['Total_Amount_of_Payment_USDollars']\n",
    "df_jan_18 = df_january_2018.groupby('day').sum()['Total_Amount_of_Payment_USDollars']"
   ]
  },
  {
   "cell_type": "code",
   "execution_count": null,
   "metadata": {},
   "outputs": [],
   "source": [
    "df_january = DataFrame({\n",
    "    '2015': df_jan_15,\n",
    "    '2016': df_jan_16,\n",
    "    '2017': df_jan_17,\n",
    "    '2018': df_jan_18 })"
   ]
  },
  {
   "cell_type": "code",
   "execution_count": null,
   "metadata": {
    "scrolled": true
   },
   "outputs": [],
   "source": [
    "fig, ax = plt.subplots(figsize=(20,10))\n",
    "# ax.bar(x=df_1['Date_of_Payment'],height=df_1['Total_Amount_of_Payment_USDollars'])\n",
    "df_january.plot.bar(ax=ax, title = 'Payments Day by Day')\n",
    "ax.set_ylabel('USD Paid Out')\n",
    "ax.set_xlabel('Date (January)')\n",
    "plt.xticks(rotation=30)"
   ]
  },
  {
   "cell_type": "markdown",
   "metadata": {},
   "source": [
    "## Do other months have outrageous payouts like that?\n"
   ]
  },
  {
   "cell_type": "code",
   "execution_count": null,
   "metadata": {
    "scrolled": true
   },
   "outputs": [],
   "source": [
    "for i in range(1,13):\n",
    "    df_january_2015 = df[(df['year']==2015) & (df['month']==i)]\n",
    "    df_january_2016 = df[(df['year']==2016) & (df['month']==i)]\n",
    "    df_january_2017 = df[(df['year']==2017) & (df['month']==i)]\n",
    "    df_january_2018 = df[(df['year']==2018) & (df['month']==i)]\n",
    "    \n",
    "    df_jan_15 = df_january_2015.groupby('day').sum()['Total_Amount_of_Payment_USDollars']\n",
    "    df_jan_16 = df_january_2016.groupby('day').sum()['Total_Amount_of_Payment_USDollars']\n",
    "    df_jan_17 = df_january_2017.groupby('day').sum()['Total_Amount_of_Payment_USDollars']\n",
    "    df_jan_18 = df_january_2018.groupby('day').sum()['Total_Amount_of_Payment_USDollars']\n",
    "    \n",
    "    df_month = DataFrame({\n",
    "        '2015': df_jan_15,\n",
    "        '2016': df_jan_16,\n",
    "        '2017': df_jan_17,\n",
    "        '2018': df_jan_18 })\n",
    "    \n",
    "    fig, ax = plt.subplots(figsize=(20,10))\n",
    "    df_month.plot.bar(ax=ax, title = 'Payments Day by Day')\n",
    "    ax.set_ylabel('USD Paid Out')\n",
    "    ax.set_xlabel('Date - '+calendar.month_name[i])\n",
    "    plt.xticks(rotation=30)"
   ]
  },
  {
   "cell_type": "markdown",
   "metadata": {},
   "source": [
    "## 3. What do payments look like throughout the entire year?"
   ]
  },
  {
   "cell_type": "code",
   "execution_count": null,
   "metadata": {},
   "outputs": [],
   "source": [
    "df_2015 = df[df['year']==2015]\n",
    "df_2016 = df[df['year']==2016]\n",
    "df_2017 = df[df['year']==2017]\n",
    "df_2018 = df[df['year']==2018]\n",
    "\n",
    "df_2015 = df_2015.groupby(['Date_of_Payment']).sum()['Total_Amount_of_Payment_USDollars']\n",
    "df_2016 = df_2016.groupby(['Date_of_Payment']).sum()['Total_Amount_of_Payment_USDollars']\n",
    "df_2017 = df_2017.groupby(['Date_of_Payment']).sum()['Total_Amount_of_Payment_USDollars']\n",
    "df_2018 = df_2018.groupby(['Date_of_Payment']).sum()['Total_Amount_of_Payment_USDollars']\n",
    "\n",
    "# df_annual = DataFrame({\n",
    "#     '2015': df_2015,\n",
    "#     '2016': df_2016,\n",
    "#     '2017': df_2017,\n",
    "#     '2018': df_2018 })"
   ]
  },
  {
   "cell_type": "code",
   "execution_count": null,
   "metadata": {},
   "outputs": [],
   "source": [
    "fig, ax = plt.subplots(nrows=2, ncols=2,figsize=(30,15), sharey=True)\n",
    "ax_list = list(ax)\n",
    "df_2015.plot.line(ax = ax_list[0][0], title = \"Open Payments in 2015\", color='green', logy=True)\n",
    "df_2016.plot.line(ax = ax_list[0][1], title = \"Open Payments in 2016\", color='green')\n",
    "df_2017.plot.line(ax = ax_list[1][0], title = \"Open Payments in 2017\", color='green')\n",
    "df_2018.plot.line(ax = ax_list[1][1], title = \"Open Payments in 2018\", color='green')\n",
    "# ax_list[0][0].xaxis.set_major_formatter(mdates.DateFormatter('%b %d'))\n",
    "ax_list[1][1].set_xlabel(\"\")\n",
    "ax_list[1][1].set_ylabel(\"USD Paid\")\n",
    "ax_list[1][0].set_xlabel(\"\")\n",
    "ax_list[1][0].set_ylabel(\"USD Paid\")\n",
    "ax_list[0][1].set_xlabel(\"\")\n",
    "ax_list[0][1].set_ylabel(\"USD Paid\")\n",
    "ax_list[0][0].set_xlabel(\"\")\n",
    "ax_list[0][0].set_ylabel(\"USD Paid\")\n",
    "\n",
    "# ax.set_ylabel('USD Paid')\n",
    "# ax.set_xlabel('Date of Payment')\n",
    "plt.subplots_adjust(wspace=0.2, hspace=0.4)\n"
   ]
  },
  {
   "cell_type": "markdown",
   "metadata": {},
   "source": [
    "## Average Payment Per Day"
   ]
  },
  {
   "cell_type": "code",
   "execution_count": null,
   "metadata": {},
   "outputs": [],
   "source": [
    "df.groupby(['Date_of_Payment']).sum()['Total_Amount_of_Payment_USDollars'].mean()"
   ]
  },
  {
   "cell_type": "code",
   "execution_count": null,
   "metadata": {},
   "outputs": [],
   "source": [
    "df.groupby(['Date_of_Payment']).sum()['Total_Amount_of_Payment_USDollars'].median()"
   ]
  },
  {
   "cell_type": "markdown",
   "metadata": {},
   "source": [
    "## Maximum Payments (Payments Aggregated by Day)"
   ]
  },
  {
   "cell_type": "code",
   "execution_count": null,
   "metadata": {},
   "outputs": [],
   "source": [
    "df_daily = df.groupby(['Date_of_Payment']).sum()\n",
    "df_daily[df_daily['Total_Amount_of_Payment_USDollars']==df_daily['Total_Amount_of_Payment_USDollars'].max()]"
   ]
  },
  {
   "cell_type": "markdown",
   "metadata": {},
   "source": [
    "## Minimum Payments (Payments Aggregated by Day)"
   ]
  },
  {
   "cell_type": "code",
   "execution_count": null,
   "metadata": {},
   "outputs": [],
   "source": [
    "df_daily[df_daily['Total_Amount_of_Payment_USDollars']==df_daily['Total_Amount_of_Payment_USDollars'].min()]"
   ]
  },
  {
   "cell_type": "markdown",
   "metadata": {},
   "source": [
    "## 4. Payment Types"
   ]
  },
  {
   "cell_type": "code",
   "execution_count": null,
   "metadata": {},
   "outputs": [],
   "source": [
    "df_2015 = df[df['year']==2015].groupby('Form_of_Payment_or_Transfer_of_Value').sum()['Total_Amount_of_Payment_USDollars']\n",
    "df_2016 = df[df['year']==2016].groupby('Form_of_Payment_or_Transfer_of_Value').sum()['Total_Amount_of_Payment_USDollars']\n",
    "df_2017 = df[df['year']==2017].groupby('Form_of_Payment_or_Transfer_of_Value').sum()['Total_Amount_of_Payment_USDollars']\n",
    "df_2018 = df[df['year']==2018].groupby('Form_of_Payment_or_Transfer_of_Value').sum()['Total_Amount_of_Payment_USDollars']\n",
    "\n",
    "index = ['Cash', 'Dividends','In-Kind items/services','Stock','Options/Ownership Interest']\n",
    "\n",
    "df_annual = DataFrame({\n",
    "    '2015': df_2015,\n",
    "    '2016': df_2016,\n",
    "    '2017': df_2017,\n",
    "    '2018': df_2018 })\n",
    "# df_annual['index']=index"
   ]
  },
  {
   "cell_type": "code",
   "execution_count": null,
   "metadata": {
    "scrolled": false
   },
   "outputs": [],
   "source": [
    "ax = df_annual.plot.bar(figsize=(10,10))\n",
    "ax.set_title('Payment Types')\n",
    "ax.set_ylabel(\"USD Paid\")\n",
    "ax.set_xticklabels(index,rotation=50)\n",
    "# plt.xticks([0, 1, 2, 3, 4],index)\n",
    "plt.ticklabel_format(style='plain', axis='y')"
   ]
  },
  {
   "cell_type": "markdown",
   "metadata": {},
   "source": [
    "## 5. How is the Money being used? - Wat is dis?"
   ]
  },
  {
   "cell_type": "code",
   "execution_count": null,
   "metadata": {},
   "outputs": [],
   "source": [
    "df_2015 = df[df['year']==2015].groupby('Indicate_Drug_or_Biological_or_Device_or_Medical_Supply_1').sum()['Total_Amount_of_Payment_USDollars']\n",
    "df_2016 = df[df['year']==2016].groupby('Indicate_Drug_or_Biological_or_Device_or_Medical_Supply_1').sum()['Total_Amount_of_Payment_USDollars']\n",
    "df_2017 = df[df['year']==2017].groupby('Indicate_Drug_or_Biological_or_Device_or_Medical_Supply_1').sum()['Total_Amount_of_Payment_USDollars']\n",
    "df_2018 = df[df['year']==2018].groupby('Indicate_Drug_or_Biological_or_Device_or_Medical_Supply_1').sum()['Total_Amount_of_Payment_USDollars']\n",
    "\n",
    "df_spent = DataFrame({\n",
    "    '2015': df_2015,\n",
    "    '2016': df_2016,\n",
    "    '2017': df_2017,\n",
    "    '2018': df_2018 })"
   ]
  },
  {
   "cell_type": "code",
   "execution_count": null,
   "metadata": {},
   "outputs": [],
   "source": [
    "ax = df_spent.plot.bar(figsize=(10,6))\n",
    "ax.set_xticklabels(['NO VALUE','Biological','Device','Drug','Medical Supply'],rotation=50)\n",
    "ax.set_ylabel('USD Paid')\n",
    "ax.set_xlabel('')"
   ]
  },
  {
   "cell_type": "code",
   "execution_count": null,
   "metadata": {
    "scrolled": false
   },
   "outputs": [],
   "source": [
    "# df_new = df_spent.plot.bar(x='Name_of_Drug_or_Biological_or_Device_or_Medical_Supply_1', y='Total_Amount_of_Payment_USDollars')\n",
    "# df_new = df_spent.sort_values(by='Total_Amount_of_Payment_USDollars', ascending=False).head(20)\n",
    "# df_new.groupby('Name_of_Drug_or_Biological_or_Device_or_Medical_Supply_1').sum()\n",
    "df_new = df_spent.groupby('Name_of_Drug_or_Biological_or_Device_or_Medical_Supply_1').sum().head(30)\n",
    "ax_1 = df_new.plot.bar(y='Total_Amount_of_Payment_USDollars',figsize=(20,10), legend = False,logy=True, color= 'green')\n",
    "# plt.xticks(rotation=60)\n",
    "ax_1.set_xlabel(\"\")\n",
    "ax_1.set_title(\"Name of Drug, Biological, Device, or Medical Supply\")\n",
    "ax_1.set_ylabel(\"USD Paid\")\n",
    "# ax_1.text(0, 1, 'NO VALUE',transform=ax.transAxes)"
   ]
  },
  {
   "cell_type": "markdown",
   "metadata": {},
   "source": [
    "### So even though in total, devices is the category with highest paid amount. However, when looking at individual payments, \"no value\" dominates "
   ]
  },
  {
   "cell_type": "code",
   "execution_count": null,
   "metadata": {
    "scrolled": false
   },
   "outputs": [],
   "source": [
    "df_nature = df_spent.groupby('Nature_of_Payment_or_Transfer_of_Value').sum()\n",
    "ax_2 = df_nature.plot.bar(y='Total_Amount_of_Payment_USDollars',figsize=(20,10), legend = False,logy=True, color= 'green')\n",
    "ax_2.set_title(\"Nature of Payment or Transfer of Value\")\n",
    "ax_2.set_ylabel(\"USD Paid\")\n",
    "ax_2.set_xlabel(\"\")"
   ]
  },
  {
   "cell_type": "markdown",
   "metadata": {},
   "source": [
    "## 6. Number of Payments In Total Amount"
   ]
  },
  {
   "cell_type": "code",
   "execution_count": null,
   "metadata": {},
   "outputs": [],
   "source": [
    "df_2015 = df[df['year']==2015].groupby('Number_of_Payments_Included_in_Total_Amount').sum()['Total_Amount_of_Payment_USDollars']\n",
    "df_2016 = df[df['year']==2016].groupby('Number_of_Payments_Included_in_Total_Amount').sum()['Total_Amount_of_Payment_USDollars']\n",
    "df_2017 = df[df['year']==2017].groupby('Number_of_Payments_Included_in_Total_Amount').sum()['Total_Amount_of_Payment_USDollars']\n",
    "df_2018 = df[df['year']==2018].groupby('Number_of_Payments_Included_in_Total_Amount').sum()['Total_Amount_of_Payment_USDollars']\n",
    "\n",
    "df_num = DataFrame({\n",
    "    '2015': df_2015,\n",
    "    '2016': df_2016,\n",
    "    '2017': df_2017,\n",
    "    '2018': df_2018 })\n",
    "\n",
    "df_num.plot.line()\n",
    "# ax_3 = df.plot.scatter(x='Number_of_Payments_Included_in_Total_Amount',y='Total_Amount_of_Payment_USDollars', figsize=(20,10))\n",
    "# ax_3.set_xlabel('Number of Payments Included in Total Amount')\n",
    "# ax_3.set_ylabel('USD Paid')\n",
    "# ax_3.set_title('Frequence of Payments Per Total Amount')"
   ]
  },
  {
   "cell_type": "code",
   "execution_count": null,
   "metadata": {},
   "outputs": [],
   "source": [
    "fig, ax = plt.subplots(figsize=(20,10))\n",
    "plt.hist(df['Number_of_Payments_Included_in_Total_Amount'], bins = 10)\n",
    "plt.yscale('log')"
   ]
  },
  {
   "cell_type": "markdown",
   "metadata": {},
   "source": [
    "## Recipients (Is this right?)"
   ]
  },
  {
   "cell_type": "code",
   "execution_count": null,
   "metadata": {
    "scrolled": true
   },
   "outputs": [],
   "source": [
    "# df_rec = df.groupby('Submitting_Applicable_Manufacturer_or_Applicable_GPO_Name').sum()\n",
    "df_rec = df[['Submitting_Applicable_Manufacturer_or_Applicable_GPO_Name','Total_Amount_of_Payment_USDollars']]\n",
    "df_rec.sort_values(by='Total_Amount_of_Payment_USDollars', ascending=False)\n",
    "\n",
    "#the top 5\n",
    "df2 = df_rec.sort_values(by='Total_Amount_of_Payment_USDollars', ascending=False)[:100].copy()\n",
    "\n",
    "#others\n",
    "new_row = pd.DataFrame(data = {\n",
    "    'Submitting_Applicable_Manufacturer_or_Applicable_GPO_Name' : ['others'],\n",
    "    'Total_Amount_of_Payment_USDollars' : [df['Total_Amount_of_Payment_USDollars'][100:].sum()]\n",
    "})\n",
    "\n",
    "#combining top 5 with others\n",
    "df2 = pd.concat([df2, new_row])\n",
    "df2.groupby('Submitting_Applicable_Manufacturer_or_Applicable_GPO_Name').sum().sort_values(by='Total_Amount_of_Payment_USDollars', ascending=False)"
   ]
  },
  {
   "cell_type": "code",
   "execution_count": null,
   "metadata": {},
   "outputs": [],
   "source": [
    "# ax = df.groupby('Covered_Recipient_Type').sum().plot.pie(y='Total_Amount_of_Payment_USDollars', legend = False)\n",
    "# ax.set_ylabel(\"\")\n",
    "\n",
    "df_2015 = df[df['year']==2015].groupby('Covered_Recipient_Type').sum()['Total_Amount_of_Payment_USDollars']\n",
    "df_2016 = df[df['year']==2016].groupby('Covered_Recipient_Type').sum()['Total_Amount_of_Payment_USDollars']\n",
    "df_2017 = df[df['year']==2017].groupby('Covered_Recipient_Type').sum()['Total_Amount_of_Payment_USDollars']\n",
    "df_2018 = df[df['year']==2018].groupby('Covered_Recipient_Type').sum()['Total_Amount_of_Payment_USDollars']\n",
    "\n",
    "df_type = DataFrame({\n",
    "    '2015': df_2015,\n",
    "    '2016': df_2016,\n",
    "    '2017': df_2017,\n",
    "    '2018': df_2018 })\n",
    "\n",
    "fig, ax = plt.subplots(nrows=2, ncols=2,figsize=(30,15))\n",
    "ax_list = list(ax)\n",
    "df_2015.plot.pie(ax = ax_list[0][0], title = \"Recipient Type in 2015\")\n",
    "df_2016.plot.pie(ax = ax_list[0][1], title = \"Recipient Type in 2016\")\n",
    "df_2017.plot.pie(ax = ax_list[1][0], title = \"Recipient Type in 2017\")\n",
    "df_2018.plot.pie(ax = ax_list[1][1], title = \"Recipient Type in 2018\")\n",
    "# ax_list[0][0].xaxis.set_major_formatter(mdates.DateFormatter('%b %d'))\n",
    "ax_list[1][1].set_xlabel(\"\")\n",
    "ax_list[1][1].set_ylabel(\"\")\n",
    "ax_list[1][0].set_xlabel(\"\")\n",
    "ax_list[1][0].set_ylabel(\"\")\n",
    "ax_list[0][1].set_xlabel(\"\")\n",
    "ax_list[0][1].set_ylabel(\"\")\n",
    "ax_list[0][0].set_xlabel(\"\")\n",
    "ax_list[0][0].set_ylabel(\"\")"
   ]
  },
  {
   "cell_type": "code",
   "execution_count": null,
   "metadata": {},
   "outputs": [],
   "source": []
  }
 ],
 "metadata": {
  "kernelspec": {
   "display_name": "Python 3",
   "language": "python",
   "name": "python3"
  },
  "language_info": {
   "codemirror_mode": {
    "name": "ipython",
    "version": 3
   },
   "file_extension": ".py",
   "mimetype": "text/x-python",
   "name": "python",
   "nbconvert_exporter": "python",
   "pygments_lexer": "ipython3",
   "version": "3.6.9"
  }
 },
 "nbformat": 4,
 "nbformat_minor": 4
}
